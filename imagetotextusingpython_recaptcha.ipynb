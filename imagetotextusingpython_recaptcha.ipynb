{
  "nbformat": 4,
  "nbformat_minor": 0,
  "metadata": {
    "colab": {
      "provenance": [],
      "include_colab_link": true
    },
    "kernelspec": {
      "name": "python3",
      "display_name": "Python 3"
    },
    "language_info": {
      "name": "python"
    }
  },
  "cells": [
    {
      "cell_type": "markdown",
      "metadata": {
        "id": "view-in-github",
        "colab_type": "text"
      },
      "source": [
        "<a href=\"https://colab.research.google.com/github/rabiyulfahimhasim786/image-to-text-python/blob/main/imagetotextusingpython_recaptcha.ipynb\" target=\"_parent\"><img src=\"https://colab.research.google.com/assets/colab-badge.svg\" alt=\"Open In Colab\"/></a>"
      ]
    },
    {
      "cell_type": "code",
      "execution_count": null,
      "metadata": {
        "id": "d9xFmbQ7_6Rf",
        "colab": {
          "base_uri": "https://localhost:8080/"
        },
        "outputId": "38df75da-da3e-4993-a63e-7decacd6e703"
      },
      "outputs": [
        {
          "output_type": "stream",
          "name": "stdout",
          "text": [
            "Looking in indexes: https://pypi.org/simple, https://us-python.pkg.dev/colab-wheels/public/simple/\n",
            "Requirement already satisfied: pytesseract in /usr/local/lib/python3.9/dist-packages (0.3.10)\n",
            "Requirement already satisfied: Pillow>=8.0.0 in /usr/local/lib/python3.9/dist-packages (from pytesseract) (8.4.0)\n",
            "Requirement already satisfied: packaging>=21.3 in /usr/local/lib/python3.9/dist-packages (from pytesseract) (23.0)\n"
          ]
        }
      ],
      "source": [
        "!pip install pytesseract"
      ]
    },
    {
      "cell_type": "code",
      "source": [
        "# !sudo apt-get update\n",
        "# !sudo apt-get install libleptonica-dev tesseract-ocr tesseract-ocr-dev libtesseract-dev python3-pil tesseract-ocr-eng tesseract-ocr-script-latn"
      ],
      "metadata": {
        "id": "k4wD55GwHKv_"
      },
      "execution_count": null,
      "outputs": []
    },
    {
      "cell_type": "code",
      "source": [
        "!sudo apt-get install tesseract-ocr -y\n",
        "!sudo apt-get install tesseract-ocr-spa -y\n",
        "!tesseract --list-langs"
      ],
      "metadata": {
        "colab": {
          "base_uri": "https://localhost:8080/"
        },
        "id": "RFDRQtIEHeDs",
        "outputId": "5455e43c-ae66-42d1-a2ce-f5a957af4411"
      },
      "execution_count": null,
      "outputs": [
        {
          "output_type": "stream",
          "name": "stdout",
          "text": [
            "Reading package lists... Done\n",
            "Building dependency tree       \n",
            "Reading state information... Done\n",
            "The following additional packages will be installed:\n",
            "  tesseract-ocr-eng tesseract-ocr-osd\n",
            "The following NEW packages will be installed:\n",
            "  tesseract-ocr tesseract-ocr-eng tesseract-ocr-osd\n",
            "0 upgraded, 3 newly installed, 0 to remove and 23 not upgraded.\n",
            "Need to get 4,850 kB of archives.\n",
            "After this operation, 16.3 MB of additional disk space will be used.\n",
            "Get:1 http://archive.ubuntu.com/ubuntu focal/universe amd64 tesseract-ocr-eng all 1:4.00~git30-7274cfa-1 [1,598 kB]\n",
            "Get:2 http://archive.ubuntu.com/ubuntu focal/universe amd64 tesseract-ocr-osd all 1:4.00~git30-7274cfa-1 [2,990 kB]\n",
            "Get:3 http://archive.ubuntu.com/ubuntu focal/universe amd64 tesseract-ocr amd64 4.1.1-2build2 [262 kB]\n",
            "Fetched 4,850 kB in 2s (2,255 kB/s)\n",
            "debconf: unable to initialize frontend: Dialog\n",
            "debconf: (No usable dialog-like program is installed, so the dialog based frontend cannot be used. at /usr/share/perl5/Debconf/FrontEnd/Dialog.pm line 76, <> line 3.)\n",
            "debconf: falling back to frontend: Readline\n",
            "debconf: unable to initialize frontend: Readline\n",
            "debconf: (This frontend requires a controlling tty.)\n",
            "debconf: falling back to frontend: Teletype\n",
            "dpkg-preconfigure: unable to re-open stdin: \n",
            "Selecting previously unselected package tesseract-ocr-eng.\n",
            "(Reading database ... 128275 files and directories currently installed.)\n",
            "Preparing to unpack .../tesseract-ocr-eng_1%3a4.00~git30-7274cfa-1_all.deb ...\n",
            "Unpacking tesseract-ocr-eng (1:4.00~git30-7274cfa-1) ...\n",
            "Selecting previously unselected package tesseract-ocr-osd.\n",
            "Preparing to unpack .../tesseract-ocr-osd_1%3a4.00~git30-7274cfa-1_all.deb ...\n",
            "Unpacking tesseract-ocr-osd (1:4.00~git30-7274cfa-1) ...\n",
            "Selecting previously unselected package tesseract-ocr.\n",
            "Preparing to unpack .../tesseract-ocr_4.1.1-2build2_amd64.deb ...\n",
            "Unpacking tesseract-ocr (4.1.1-2build2) ...\n",
            "Setting up tesseract-ocr-eng (1:4.00~git30-7274cfa-1) ...\n",
            "Setting up tesseract-ocr-osd (1:4.00~git30-7274cfa-1) ...\n",
            "Setting up tesseract-ocr (4.1.1-2build2) ...\n",
            "Processing triggers for man-db (2.9.1-1) ...\n",
            "Reading package lists... Done\n",
            "Building dependency tree       \n",
            "Reading state information... Done\n",
            "The following NEW packages will be installed:\n",
            "  tesseract-ocr-spa\n",
            "0 upgraded, 1 newly installed, 0 to remove and 23 not upgraded.\n",
            "Need to get 951 kB of archives.\n",
            "After this operation, 2,309 kB of additional disk space will be used.\n",
            "Get:1 http://archive.ubuntu.com/ubuntu focal/universe amd64 tesseract-ocr-spa all 1:4.00~git30-7274cfa-1 [951 kB]\n",
            "Fetched 951 kB in 2s (628 kB/s)\n",
            "debconf: unable to initialize frontend: Dialog\n",
            "debconf: (No usable dialog-like program is installed, so the dialog based frontend cannot be used. at /usr/share/perl5/Debconf/FrontEnd/Dialog.pm line 76, <> line 1.)\n",
            "debconf: falling back to frontend: Readline\n",
            "debconf: unable to initialize frontend: Readline\n",
            "debconf: (This frontend requires a controlling tty.)\n",
            "debconf: falling back to frontend: Teletype\n",
            "dpkg-preconfigure: unable to re-open stdin: \n",
            "Selecting previously unselected package tesseract-ocr-spa.\n",
            "(Reading database ... 128322 files and directories currently installed.)\n",
            "Preparing to unpack .../tesseract-ocr-spa_1%3a4.00~git30-7274cfa-1_all.deb ...\n",
            "Unpacking tesseract-ocr-spa (1:4.00~git30-7274cfa-1) ...\n",
            "Setting up tesseract-ocr-spa (1:4.00~git30-7274cfa-1) ...\n",
            "List of available languages (3):\n",
            "eng\n",
            "osd\n",
            "spa\n"
          ]
        }
      ]
    },
    {
      "cell_type": "code",
      "source": [
        "!pip install opencv-python"
      ],
      "metadata": {
        "colab": {
          "base_uri": "https://localhost:8080/"
        },
        "id": "dy79vWrrGMWe",
        "outputId": "88da3ebe-bce4-43e5-d24a-6f5b503e00e8"
      },
      "execution_count": null,
      "outputs": [
        {
          "output_type": "stream",
          "name": "stdout",
          "text": [
            "Looking in indexes: https://pypi.org/simple, https://us-python.pkg.dev/colab-wheels/public/simple/\n",
            "Requirement already satisfied: opencv-python in /usr/local/lib/python3.9/dist-packages (4.6.0.66)\n",
            "Requirement already satisfied: numpy>=1.14.5 in /usr/local/lib/python3.9/dist-packages (from opencv-python) (1.22.4)\n"
          ]
        }
      ]
    },
    {
      "cell_type": "code",
      "source": [
        "!pip install pillow"
      ],
      "metadata": {
        "colab": {
          "base_uri": "https://localhost:8080/"
        },
        "id": "-CxSQ6OvGP2R",
        "outputId": "3ef3662d-91ea-444f-d93d-5cfa40981e4b"
      },
      "execution_count": null,
      "outputs": [
        {
          "output_type": "stream",
          "name": "stdout",
          "text": [
            "Looking in indexes: https://pypi.org/simple, https://us-python.pkg.dev/colab-wheels/public/simple/\n",
            "Requirement already satisfied: pillow in /usr/local/lib/python3.9/dist-packages (8.4.0)\n"
          ]
        }
      ]
    },
    {
      "cell_type": "markdown",
      "source": [
        "**Image captcha - text extractions**"
      ],
      "metadata": {
        "id": "36QGv14DJe10"
      }
    },
    {
      "cell_type": "code",
      "source": [
        "import pytesseract\n",
        "from PIL import Image\n",
        "text = pytesseract.image_to_string(Image.open(\"image.jpg\"), lang='eng', config='--psm 10 --oem 3 -c tessedit_char_whitelist=0123456789')\n",
        "print(text)"
      ],
      "metadata": {
        "colab": {
          "base_uri": "https://localhost:8080/"
        },
        "id": "cSH3VnOIGR6m",
        "outputId": "4ea4121f-94c9-4728-8a47-2a069ef4fcc2"
      },
      "execution_count": null,
      "outputs": [
        {
          "output_type": "stream",
          "name": "stdout",
          "text": [
            "\f\n"
          ]
        }
      ]
    },
    {
      "cell_type": "code",
      "source": [
        "import io\n",
        "import requests\n",
        "import pytesseract\n",
        "from PIL import Image, ImageFilter, ImageEnhance\n",
        "\n",
        "response = requests.get('https://i.stack.imgur.com/HWLay.gif')\n",
        "img = Image.open(io.BytesIO(response.content))\n",
        "img = img.convert('L')\n",
        "img = img.filter(ImageFilter.MedianFilter())\n",
        "enhancer = ImageEnhance.Contrast(img)\n",
        "img = enhancer.enhance(2)\n",
        "img = img.convert('1')\n",
        "img.save('image.jpg')\n",
        "imagetext = pytesseract.image_to_string(img, lang='eng', config='--psm 10 --oem 3 -c tessedit_char_whitelist=abcdefghijklmnopqrstuvwxyz0123456789')\n",
        "print(imagetext)"
      ],
      "metadata": {
        "colab": {
          "base_uri": "https://localhost:8080/"
        },
        "id": "4jIAa2dCHvc2",
        "outputId": "7a9bc757-de81-4f54-e9d0-47767cd8ca2c"
      },
      "execution_count": null,
      "outputs": [
        {
          "output_type": "stream",
          "name": "stdout",
          "text": [
            "2h\n",
            "\f\n"
          ]
        }
      ]
    },
    {
      "cell_type": "code",
      "source": [
        "import io\n",
        "import requests\n",
        "import pytesseract\n",
        "from PIL import Image, ImageEnhance, ImageFilter\n",
        "response = requests.get('https://i.stack.imgur.com/HWLay.gif')\n",
        "img = Image.open(io.BytesIO(response.content))\n",
        "img = img.convert('L')\n",
        "img = img.filter(ImageFilter.MedianFilter())\n",
        "enhancer = ImageEnhance.Contrast(img)\n",
        "img = enhancer.enhance(2)\n",
        "img = img.convert('1')\n",
        "img.save('image.jpg')\n",
        "im = Image.open(\"image.jpg\") # the second one \n",
        "im = im.filter(ImageFilter.MedianFilter())\n",
        "enhancer = ImageEnhance.Contrast(im)\n",
        "im = enhancer.enhance(2)\n",
        "im = im.convert('1')\n",
        "im.save('image2.jpg')\n",
        "text = pytesseract.image_to_string(Image.open('image2.jpg'))\n",
        "print(text)"
      ],
      "metadata": {
        "colab": {
          "base_uri": "https://localhost:8080/"
        },
        "id": "HRPZXblNI83N",
        "outputId": "ad3cd5d6-fbf2-463a-b322-e3d2a260005e"
      },
      "execution_count": null,
      "outputs": [
        {
          "output_type": "stream",
          "name": "stdout",
          "text": [
            "2 HHH\n",
            "\f\n"
          ]
        }
      ]
    },
    {
      "cell_type": "code",
      "source": [
        "import io\n",
        "import requests\n",
        "import pytesseract\n",
        "from PIL import Image, ImageEnhance, ImageFilter\n",
        "response = requests.get('https://5.imimg.com/data5/RH/GR/WS/SELLER-28598956/car-number-plate-with-frame-1000x1000.jpg')\n",
        "img = Image.open(io.BytesIO(response.content))\n",
        "img = img.convert('L')\n",
        "img = img.filter(ImageFilter.MedianFilter())\n",
        "enhancer = ImageEnhance.Contrast(img)\n",
        "img = enhancer.enhance(2)\n",
        "img = img.convert('1')\n",
        "img.save('image.jpg')\n",
        "im = Image.open(\"image.jpg\") # the second one \n",
        "im = im.filter(ImageFilter.MedianFilter())\n",
        "enhancer = ImageEnhance.Contrast(im)\n",
        "im = enhancer.enhance(2)\n",
        "im = im.convert('1')\n",
        "im.save('image2.jpg')\n",
        "text = pytesseract.image_to_string(Image.open('image2.jpg'), lang='eng', config='-l eng --oem 3 --psm 6')\n",
        "print(text)"
      ],
      "metadata": {
        "colab": {
          "base_uri": "https://localhost:8080/"
        },
        "id": "gFPKN6CgJUrz",
        "outputId": "9ad32917-ba2a-47ab-de09-80579935444b"
      },
      "execution_count": null,
      "outputs": [
        {
          "output_type": "stream",
          "name": "stdout",
          "text": [
            "“KL 48L7987\n",
            "“KL 48L 7987\n",
            "\f\n"
          ]
        }
      ]
    },
    {
      "cell_type": "code",
      "source": [
        "import io\n",
        "import requests\n",
        "import pytesseract\n",
        "from PIL import Image, ImageEnhance, ImageFilter\n",
        "response = requests.get('https://m.media-amazon.com/images/W/IMAGERENDERING_521856-T1/images/I/81UT+YOhcBL._SY355_.jpg')\n",
        "img = Image.open(io.BytesIO(response.content))\n",
        "img = img.convert('L')\n",
        "img = img.filter(ImageFilter.MedianFilter())\n",
        "enhancer = ImageEnhance.Contrast(img)\n",
        "img = enhancer.enhance(2)\n",
        "img = img.convert('1')\n",
        "img.save('image.jpg')\n",
        "im = Image.open(\"image.jpg\") # the second one \n",
        "im = im.filter(ImageFilter.MedianFilter())\n",
        "enhancer = ImageEnhance.Contrast(im)\n",
        "im = enhancer.enhance(2)\n",
        "im = im.convert('1')\n",
        "im.save('image2.jpg')\n",
        "text = pytesseract.image_to_string(Image.open('image2.jpg'), lang='eng', config='-l eng --oem 3 --psm 6')\n",
        "print(text)"
      ],
      "metadata": {
        "colab": {
          "base_uri": "https://localhost:8080/"
        },
        "id": "BBFZ-n7NKzdk",
        "outputId": "678604a7-ab87-48d9-e5ed-3c2bec365bcc"
      },
      "execution_count": null,
      "outputs": [
        {
          "output_type": "stream",
          "name": "stdout",
          "text": [
            "= MNO3T 2532\n",
            "e HNO3 T 2532\n",
            "\f\n"
          ]
        }
      ]
    }
  ]
}